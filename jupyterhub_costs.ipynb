{
 "cells": [
  {
   "cell_type": "code",
   "execution_count": 28,
   "id": "needed-better",
   "metadata": {},
   "outputs": [],
   "source": [
    "import math\n",
    "import requests\n",
    "import json\n",
    "\n",
    "def get_price(vm_size_name: str) -> float:\n",
    "    url = f\"https://prices.azure.com/api/retail/prices?$filter=serviceName eq 'Virtual Machines' and location eq 'US West 2' and armSkuName eq '{vm_size_name}'\"\n",
    "    for entry in json.loads(requests.get(url).text)[\"Items\"]:\n",
    "        if entry[\"type\"] == \"Consumption\" \\\n",
    "        and \"Windows\" not in entry[\"productName\"] \\\n",
    "        and not \"Low Priority\" in entry[\"meterName\"] \\\n",
    "        and not \"Spot\" in entry[\"meterName\"]:\n",
    "            return entry[\"unitPrice\"] * 24 * 365 / 12\n",
    "    raise Exception(f\"Price not found for: {vm_size_name}\")\n",
    "\n",
    "# Azure vm costs per their calculator\n",
    "azure_compute = {\n",
    "    \"B4ms\":   { \"monthly_price\": get_price(\"Standard_B4ms\"), \"cpus\": 4 },\n",
    "    \"D4s_v4\": { \"monthly_price\": get_price(\"Standard_D4s_v4\"), \"cpus\": 4 },\n",
    "    \"D2s_v5\": { \"monthly_price\": get_price(\"Standard_D2s_v5\"),  \"cpus\": 2 },\n",
    "    \"B16ms\":  { \"monthly_price\": get_price(\"Standard_B16ms\"), \"cpus\": 16 },\n",
    "}\n",
    "\n",
    "# Months in a school term\n",
    "term_months = 3\n",
    "\n",
    "# Hours in a week\n",
    "hours_in_a_week = 168"
   ]
  },
  {
   "cell_type": "markdown",
   "id": "southern-kinase",
   "metadata": {},
   "source": [
    "---\n",
    "\n",
    "<img src=\"https://jupyter.org/assets/homepage/hublogo.svg\" alt=\"hublogo\" width=\"400\"/>\n",
    "\n",
    "# Jupyterhub Costs Calculation\n",
    "\n",
    "This notebook can be used to calculate the costs associated with running Jupyterhub in several configurations.\n",
    "\n",
    "You can modify the values below to adjust the end prices."
   ]
  },
  {
   "cell_type": "markdown",
   "id": "deluxe-alaska",
   "metadata": {},
   "source": [
    "#### Target Cost per Student per Term"
   ]
  },
  {
   "cell_type": "code",
   "execution_count": 2,
   "id": "expected-cricket",
   "metadata": {},
   "outputs": [],
   "source": [
    "target_cost_per_student = 50"
   ]
  },
  {
   "cell_type": "markdown",
   "id": "critical-publisher",
   "metadata": {},
   "source": [
    "#### Estimated Students per Class"
   ]
  },
  {
   "cell_type": "code",
   "execution_count": 3,
   "id": "orange-monitor",
   "metadata": {},
   "outputs": [],
   "source": [
    "students_per_class = 200"
   ]
  },
  {
   "cell_type": "markdown",
   "id": "diverse-turkish",
   "metadata": {},
   "source": [
    "#### Resource Allocation Multiplier\n",
    "\n",
    "This value is used to calculate how much resources are allocated for each student. A value of 1.0 means that each student is guaranteed to have 1cpu and 4gb memory. Increasing this value to 2.0 would double the resources, giving them 2cpu/8gb. Similarly, decreasing it to 0.5 would guarantee them at .5cpu/2gb."
   ]
  },
  {
   "cell_type": "code",
   "execution_count": 4,
   "id": "noticed-anthony",
   "metadata": {},
   "outputs": [],
   "source": [
    "res_alloc_mult = 1.0"
   ]
  },
  {
   "cell_type": "markdown",
   "id": "continued-credit",
   "metadata": {},
   "source": [
    "#### Miscellaneous Costs for Azure Components\n",
    "\n",
    "There are other components needed for a Jupyterhub cluster, such as a Public IP and Container Registry. This numer should be adjust to account for those costs."
   ]
  },
  {
   "cell_type": "code",
   "execution_count": 5,
   "id": "realistic-constant",
   "metadata": {},
   "outputs": [],
   "source": [
    "azure_misc_monthly_cost = 100"
   ]
  },
  {
   "cell_type": "markdown",
   "id": "mobile-fluid",
   "metadata": {},
   "source": [
    "#### Persistent Storage Volumes for Student Data\n",
    "\n",
    "The estimated cost for 4GB of persistent volume storage for student data."
   ]
  },
  {
   "cell_type": "code",
   "execution_count": 6,
   "id": "aging-intersection",
   "metadata": {},
   "outputs": [],
   "source": [
    "student_storage_monthly_cost = 4"
   ]
  },
  {
   "cell_type": "markdown",
   "id": "sticky-particular",
   "metadata": {},
   "source": [
    "### Required CPU Count for the Cluster\n",
    "\n",
    "Given the information above, we can base our cluster size on the number of CPUs required to handle all the students."
   ]
  },
  {
   "cell_type": "code",
   "execution_count": 7,
   "id": "italian-crazy",
   "metadata": {},
   "outputs": [
    {
     "name": "stdout",
     "output_type": "stream",
     "text": [
      "Required number of CPUs: 200\n"
     ]
    }
   ],
   "source": [
    "required_cpus = math.ceil(students_per_class * res_alloc_mult)\n",
    "print(f\"Required number of CPUs: {required_cpus}\")"
   ]
  },
  {
   "cell_type": "markdown",
   "id": "statewide-flush",
   "metadata": {},
   "source": [
    "---\n",
    "\n",
    "# Virtual Machine Cluster - Azure\n",
    "\n",
    "This scenario is similar to how we currently have our jupyterhub cluster set up on-prem.\n",
    "\n",
    "Uses standard Virtual Machines that are always on and is *not scalable*. We can use with B-series systems (cheaper, less performant), or D4-series (enterprise performance). I've chosen the cheaper system, as these machines will not be seeing sustained heavy use.\n",
    "\n",
    "We also factor in the other costs such as the misc azure costs stated above, as well as the cost for persistent student data storage volumes."
   ]
  },
  {
   "cell_type": "markdown",
   "id": "israeli-growing",
   "metadata": {},
   "source": [
    "## Cost Evaluation"
   ]
  },
  {
   "cell_type": "markdown",
   "id": "tired-medium",
   "metadata": {},
   "source": [
    "Virtual Machine size"
   ]
  },
  {
   "cell_type": "code",
   "execution_count": 8,
   "id": "catholic-surgery",
   "metadata": {},
   "outputs": [],
   "source": [
    "vm_size = \"B4ms\""
   ]
  },
  {
   "cell_type": "markdown",
   "id": "dominican-pursuit",
   "metadata": {},
   "source": [
    "Grab the price for that virtual machine size and the number of CPUs it provides."
   ]
  },
  {
   "cell_type": "code",
   "execution_count": 9,
   "id": "overhead-territory",
   "metadata": {},
   "outputs": [],
   "source": [
    "vm_price = azure_compute[vm_size][\"monthly_price\"]\n",
    "vm_cpus = azure_compute[vm_size][\"cpus\"]"
   ]
  },
  {
   "cell_type": "markdown",
   "id": "human-bradford",
   "metadata": {},
   "source": [
    "Based on the number of CPUs, we can calculate how many nodes we'll need to support the student count."
   ]
  },
  {
   "cell_type": "code",
   "execution_count": 10,
   "id": "actual-dimension",
   "metadata": {},
   "outputs": [],
   "source": [
    "num_nodes = math.ceil(required_cpus / vm_cpus)"
   ]
  },
  {
   "cell_type": "markdown",
   "id": "ignored-observer",
   "metadata": {},
   "source": [
    "Next we find the monthly cost for the whole cluster, including the miscellaneous azure costs and student storage."
   ]
  },
  {
   "cell_type": "code",
   "execution_count": 11,
   "id": "animal-cuisine",
   "metadata": {},
   "outputs": [],
   "source": [
    "azure_vm_cluster_monthly_cost = \\\n",
    "    (num_nodes * vm_price) + azure_misc_monthly_cost + (students_per_class * student_storage_monthly_cost)"
   ]
  },
  {
   "cell_type": "markdown",
   "id": "confident-flexibility",
   "metadata": {},
   "source": [
    "Finally, we can calculate the cluster cost per term."
   ]
  },
  {
   "cell_type": "code",
   "execution_count": 12,
   "id": "banner-gothic",
   "metadata": {},
   "outputs": [],
   "source": [
    "azure_vm_cluster_term_cost = azure_vm_cluster_monthly_cost * term_months"
   ]
  },
  {
   "cell_type": "markdown",
   "id": "brazilian-stable",
   "metadata": {},
   "source": [
    "Then break it down into student cost per term."
   ]
  },
  {
   "cell_type": "code",
   "execution_count": 13,
   "id": "broken-quantum",
   "metadata": {},
   "outputs": [],
   "source": [
    "azure_vm_cluster_term_cost_per_student = \\\n",
    "    azure_vm_cluster_term_cost / students_per_class"
   ]
  },
  {
   "cell_type": "markdown",
   "id": "ignored-track",
   "metadata": {},
   "source": [
    "## Results"
   ]
  },
  {
   "cell_type": "code",
   "execution_count": 14,
   "id": "blessed-seminar",
   "metadata": {},
   "outputs": [
    {
     "name": "stdout",
     "output_type": "stream",
     "text": [
      "Cost for cluster per term: $20,877.00\n",
      "Cost per student per term: $104.39\n"
     ]
    }
   ],
   "source": [
    "print(f\"Cost for cluster per term: ${azure_vm_cluster_term_cost:,.2f}\")\n",
    "print(f\"Cost per student per term: ${azure_vm_cluster_term_cost_per_student:,.2f}\")"
   ]
  },
  {
   "cell_type": "markdown",
   "id": "ignored-purpose",
   "metadata": {},
   "source": [
    "---\n",
    "\n",
    "# Virtual Machine Cluster - On-Prem\n",
    "\n",
    "This is our current environment. Exactly the same as above, but our on-prem costs are estimated to be **one-third of azure costs**, and we don't charge for student storage. We also use higher quality Virtual Machines, compared to the B-series."
   ]
  },
  {
   "cell_type": "markdown",
   "id": "rural-prescription",
   "metadata": {},
   "source": [
    "## Cost Evaluation"
   ]
  },
  {
   "cell_type": "code",
   "execution_count": 15,
   "id": "dirty-sound",
   "metadata": {},
   "outputs": [],
   "source": [
    "on_prem_vm_cluster_term_cost = azure_vm_cluster_term_cost * .3\n",
    "on_prem_vm_cluster_term_cost_per_student = on_prem_vm_cluster_term_cost / students_per_class"
   ]
  },
  {
   "cell_type": "markdown",
   "id": "passing-standard",
   "metadata": {},
   "source": [
    "## Results"
   ]
  },
  {
   "cell_type": "code",
   "execution_count": 16,
   "id": "tender-seminar",
   "metadata": {},
   "outputs": [
    {
     "name": "stdout",
     "output_type": "stream",
     "text": [
      "Cost for cluster per term: $6,263.10\n",
      "Cost per student per term: $31.32\n"
     ]
    }
   ],
   "source": [
    "print(f\"Cost for cluster per term: ${on_prem_vm_cluster_term_cost:,.2f}\")\n",
    "print(f\"Cost per student per term: ${on_prem_vm_cluster_term_cost_per_student:,.2f}\")"
   ]
  },
  {
   "cell_type": "markdown",
   "id": "respected-dietary",
   "metadata": {},
   "source": [
    "---\n",
    "\n",
    "# Kubernetes Cluster - Azure\n",
    "\n",
    "This is a much more complicated environment, but may lead to the most cost savings if on-prem is to be avoided.\n",
    "\n",
    "This cluster is configured using the [Zero to Jupyterhub](https://zero-to-jupyterhub.readthedocs.io/en/latest/) guide for hosting Jupyterhub on Kubernetes, using Azure Kubernetes Service (AKS).\n",
    "\n",
    "Some benefits include:\n",
    "\n",
    "- Much smaller footprint when not in use\n",
    "- Autoscaling pods to reduce cluster size after class\n",
    "- Creating a new cluster is much faster\n",
    "\n",
    "Possible concerns:\n",
    "\n",
    "- New-ish technology with no *official* support\n",
    "- Managed very differently from our traditional toolset\n",
    "- Staff proficiency in container management platforms\n"
   ]
  },
  {
   "cell_type": "markdown",
   "id": "shaped-beijing",
   "metadata": {},
   "source": [
    "## Configuration\n",
    "\n",
    "The AKS cluster is configured with two pools, the controller pool and the user pool. Each pool is a scaling set of pods (nodes). The Controller pool is static, while the User pool scales to meet demand."
   ]
  },
  {
   "cell_type": "markdown",
   "id": "crazy-convert",
   "metadata": {},
   "source": [
    "### Node sizing\n",
    "\n",
    "#### Controller pool\n",
    "\n",
    "- Azure VM Size: D2s-v5\n",
    "    - This size provides production-level performance for the core components of the cluster\n",
    "- Three pods needed at all times\n",
    "- Scaling up to meet demand is possible, but not likely needed\n",
    "- Static Cost"
   ]
  },
  {
   "cell_type": "code",
   "execution_count": 20,
   "id": "blond-sender",
   "metadata": {},
   "outputs": [],
   "source": [
    "aks_controller_size = \"D2s_v5\"\n",
    "num_controllers = 3"
   ]
  },
  {
   "cell_type": "markdown",
   "id": "industrial-kruger",
   "metadata": {},
   "source": [
    "#### User pool\n",
    "\n",
    "- Azure VM Size: B16ms\n",
    "    - Huge (16cpu/64gb) systems to minimize scale events, using the cheaper B-series VMs.\n",
    "- One pod needed at all times\n",
    "- Scaling up to meet demand happens frequently\n",
    "- Scaling down after demand falls below threshold is automatic\n",
    "- Dynamic Cost"
   ]
  },
  {
   "cell_type": "code",
   "execution_count": 39,
   "id": "about-average",
   "metadata": {},
   "outputs": [],
   "source": [
    "aks_userpod_size = \"B16ms\"\n",
    "aks_userpod_cpus = azure_compute[aks_userpod_size][\"cpus\"]\n",
    "minimum_pods = 1"
   ]
  },
  {
   "cell_type": "markdown",
   "id": "meaningful-richards",
   "metadata": {},
   "source": [
    "### Availability\n",
    "\n",
    "With the auto-scaling nature of this cluster, calculating costs is more involved, as we need to use hourly costs compared against lab and lecture schedule, while also accounting for minimizing scale events during homework time. The calculations below will be a best-effort estimate based on the following schedule:\n",
    "\n",
    "Full capacity: \n",
    "\n",
    "- Tue: 1.5hr lecture\n",
    "- Thu: 1.5hr lecture\n",
    "- Fri: 12hr labs\n",
    "\n",
    "Half capacity the rest of the time, with more down-tuning available as we see fit."
   ]
  },
  {
   "cell_type": "code",
   "execution_count": 40,
   "id": "available-scholar",
   "metadata": {},
   "outputs": [],
   "source": [
    "class_sessions_per_week = 3\n",
    "class_hours = 15"
   ]
  },
  {
   "cell_type": "markdown",
   "id": "formed-tenant",
   "metadata": {},
   "source": [
    "In addition to the total full capacity hours, we also need to account for scaling time. \n",
    "\n",
    "We expect instructors will trigger a scale event some time prior to class to ensure that the cluster is at full capacity prior to students logging in."
   ]
  },
  {
   "cell_type": "code",
   "execution_count": 41,
   "id": "alone-decrease",
   "metadata": {},
   "outputs": [],
   "source": [
    "before_class_scale_hours = 1"
   ]
  },
  {
   "cell_type": "markdown",
   "id": "floating-price",
   "metadata": {},
   "source": [
    "Likewise, the auto-scaler will take some time after class is over to start scaling back down. \n",
    "\n",
    "We will need to tune this number as it relates to how often the cluster culls inactive processes. We will need to work with instructors for this number, as I expect that it will need to change depending on the difficulty of the class (students running longer processes)."
   ]
  },
  {
   "cell_type": "code",
   "execution_count": 42,
   "id": "geological-advancement",
   "metadata": {},
   "outputs": [],
   "source": [
    "after_class_scale_hours = 1"
   ]
  },
  {
   "cell_type": "markdown",
   "id": "further-denial",
   "metadata": {},
   "source": [
    "Using all these values, we can calculate how many full capacity hours and half capacity hours needed."
   ]
  },
  {
   "cell_type": "code",
   "execution_count": 43,
   "id": "fresh-miami",
   "metadata": {},
   "outputs": [],
   "source": [
    "full_capacity_hours_per_week = (class_hours + before_class_scale_hours + after_class_scale_hours) * class_sessions_per_week\n",
    "half_capacity_hours_per_week = hours_in_a_week - full_capacity_hours_per_week"
   ]
  },
  {
   "cell_type": "markdown",
   "id": "tough-westminster",
   "metadata": {},
   "source": [
    "## Cost Evaluation"
   ]
  },
  {
   "cell_type": "markdown",
   "id": "geographic-delight",
   "metadata": {},
   "source": [
    "### Controller Pool\n",
    "\n",
    "The three pods in this pool are always on, so it's easy to know the cost."
   ]
  },
  {
   "cell_type": "markdown",
   "id": "herbal-jacket",
   "metadata": {},
   "source": [
    "Grab the monthly price multiple by the number of controller pods."
   ]
  },
  {
   "cell_type": "code",
   "execution_count": 44,
   "id": "loving-agent",
   "metadata": {},
   "outputs": [],
   "source": [
    "aks_controller_price = azure_compute[aks_controller_size][\"monthly_price\"]\n",
    "aks_controller_monthly_cost = aks_controller_price * num_controllers"
   ]
  },
  {
   "cell_type": "markdown",
   "id": "average-summit",
   "metadata": {},
   "source": [
    "### User Pool\n",
    "\n",
    "Using the capacity hours calculated above, we can apply that to the pricing for AKS."
   ]
  },
  {
   "cell_type": "markdown",
   "id": "restricted-friendly",
   "metadata": {},
   "source": [
    "First, let's establish the base monthly cost as the controller costs in addition to the miscellaneous costs."
   ]
  },
  {
   "cell_type": "code",
   "execution_count": 45,
   "id": "coordinated-grounds",
   "metadata": {},
   "outputs": [],
   "source": [
    "aks_base_monthly_cost = aks_controller_monthly_cost + azure_misc_monthly_cost"
   ]
  },
  {
   "cell_type": "markdown",
   "id": "material-dating",
   "metadata": {},
   "source": [
    "We need to calculate the hourly cost for each user pod."
   ]
  },
  {
   "cell_type": "code",
   "execution_count": 46,
   "id": "material-extreme",
   "metadata": {},
   "outputs": [],
   "source": [
    "aks_userpod_hourly_cost = azure_compute[aks_userpod_size][\"monthly_price\"] / 30 / 24"
   ]
  },
  {
   "cell_type": "markdown",
   "id": "piano-wales",
   "metadata": {},
   "source": [
    "Now we need to determine how many user pods we need at half and full capacity."
   ]
  },
  {
   "cell_type": "code",
   "execution_count": 47,
   "id": "worthy-concentration",
   "metadata": {},
   "outputs": [],
   "source": [
    "aks_userpod_fc_count = math.ceil(required_cpus / aks_userpod_cpus)\n",
    "aks_userpod_hc_count = math.ceil(aks_userpod_fc_count / 2)"
   ]
  },
  {
   "cell_type": "markdown",
   "id": "checked-correlation",
   "metadata": {},
   "source": [
    "Using our capacity hours from above, we can now estimate the monthly cost for the user pods."
   ]
  },
  {
   "cell_type": "code",
   "execution_count": 50,
   "id": "dense-ready",
   "metadata": {},
   "outputs": [],
   "source": [
    "aks_userpod_monthly_cost = \\\n",
    "    full_capacity_hours_per_week * aks_userpod_fc_count * aks_userpod_hourly_cost + \\\n",
    "    half_capacity_hours_per_week * aks_userpod_hc_count * aks_userpod_hourly_cost"
   ]
  },
  {
   "cell_type": "markdown",
   "id": "solved-leonard",
   "metadata": {},
   "source": [
    "We can then add that to the base monthly cost to get the total monthly cost."
   ]
  },
  {
   "cell_type": "code",
   "execution_count": 51,
   "id": "infrared-popularity",
   "metadata": {},
   "outputs": [],
   "source": [
    "aks_total_monthly_cost = aks_base_monthly_cost + aks_userpod_monthly_cost"
   ]
  },
  {
   "cell_type": "markdown",
   "id": "earlier-smith",
   "metadata": {},
   "source": [
    "We multiply by the months in a term to get the term price."
   ]
  },
  {
   "cell_type": "code",
   "execution_count": 54,
   "id": "outside-internet",
   "metadata": {},
   "outputs": [],
   "source": [
    "aks_total_term_cost = aks_total_monthly_cost * term_months"
   ]
  },
  {
   "cell_type": "markdown",
   "id": "drawn-particle",
   "metadata": {},
   "source": [
    "Then we can get the cost per student."
   ]
  },
  {
   "cell_type": "code",
   "execution_count": 55,
   "id": "victorian-denmark",
   "metadata": {},
   "outputs": [],
   "source": [
    "aks_cost_per_student_per_term = \\\n",
    "    aks_total_term_cost / students_per_class"
   ]
  },
  {
   "cell_type": "markdown",
   "id": "outdoor-dependence",
   "metadata": {},
   "source": [
    "## Results"
   ]
  },
  {
   "cell_type": "code",
   "execution_count": 56,
   "id": "hollow-facility",
   "metadata": {},
   "outputs": [
    {
     "name": "stdout",
     "output_type": "stream",
     "text": [
      "Cost for cluster per term: $3,932.88\n",
      "Cost per student per term: $19.66\n"
     ]
    }
   ],
   "source": [
    "print(f\"Cost for cluster per term: ${aks_total_term_cost:,.2f}\")\n",
    "print(f\"Cost per student per term: ${aks_cost_per_student_per_term:,.2f}\")"
   ]
  },
  {
   "cell_type": "markdown",
   "id": "quarterly-beauty",
   "metadata": {},
   "source": [
    "# Summary\n",
    "\n",
    "Using the data above, we can get a nice view of the costs associated with each solution."
   ]
  },
  {
   "cell_type": "code",
   "execution_count": 102,
   "id": "preceding-second",
   "metadata": {},
   "outputs": [
    {
     "data": {
      "image/png": "[encoded data removed]",
      "text/plain": [
       "<Figure size 432x288 with 1 Axes>"
      ]
     },
     "metadata": {
      "needs_background": "light"
     },
     "output_type": "display_data"
    }
   ],
   "source": [
    "import numpy as np\n",
    "import matplotlib.pyplot as plt\n",
    "%matplotlib inline\n",
    "\n",
    "costs = {\n",
    "    \"VM - Azure\": azure_vm_cluster_term_cost_per_student, \n",
    "    \"VM - On-Prem\": on_prem_vm_cluster_term_cost_per_student, \n",
    "    \"Kubernetes - Azure\": aks_cost_per_student_per_term,\n",
    "}\n",
    "costs = dict(sorted(costs.items(), key=lambda x:x[1]))\n",
    "\n",
    "values = np.array(list(costs.values()))\n",
    "x = range(len(values))\n",
    "above_threshold = np.maximum(values - target_cost_per_student, 0)\n",
    "below_threshold = np.minimum(values, target_cost_per_student)\n",
    "\n",
    "fig, ax = plt.subplots()\n",
    "ax.bar(x, below_threshold, 0.35, color=\"b\")\n",
    "ax.bar(x, above_threshold, 0.35, color=\"r\",\n",
    "        bottom=below_threshold)\n",
    "plt.xticks(range(len(values)), list(costs.keys()))\n",
    "ax.plot([0, 2], [target_cost_per_student, target_cost_per_student], \"k--\")\n",
    "plt.ylabel('Cost per student per term in dollars')\n",
    "plt.xlabel('Jupyterhub Cluster Type')\n",
    "plt.title('Jupyterhub Solutions - Cost Analysis')\n",
    "plt.show()"
   ]
  },
  {
   "cell_type": "markdown",
   "id": "lovely-strength",
   "metadata": {},
   "source": [
    "# Conclusion\n",
    "\n",
    "The cheapest in cost would be the Kubernetes cluster in Azure, followed closely by the on-prem solution, and lastly the vm-based solution in Azure.\n",
    "\n",
    "While the two VM cluster solutions are fairly static in price, the Kubernetes cluster can be tuned for performance/cost. Currently, we're accounting for half capacity at non-critical hours. This could likely be tuned down to quarter-capacity, further reducing costs.\n",
    "\n",
    "It's no surprise why many other universities (UW, Berkeley, Michigan State) are choosing to go the Kubernetes route, as the use-case is what Kubernetes was designed for."
   ]
  },
  {
   "cell_type": "code",
   "execution_count": null,
   "id": "piano-bronze",
   "metadata": {},
   "outputs": [],
   "source": []
  }
 ],
 "metadata": {
  "kernelspec": {
   "display_name": "Python 3",
   "language": "python",
   "name": "python3"
  },
  "language_info": {
   "codemirror_mode": {
    "name": "ipython",
    "version": 3
   },
   "file_extension": ".py",
   "mimetype": "text/x-python",
   "name": "python",
   "nbconvert_exporter": "python",
   "pygments_lexer": "ipython3",
   "version": "3.9.9"
  }
 },
 "nbformat": 4,
 "nbformat_minor": 5
}
