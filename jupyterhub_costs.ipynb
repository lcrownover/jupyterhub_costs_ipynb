{
 "cells": [
  {
   "cell_type": "code",
   "execution_count": 21,
   "id": "affiliated-insulation",
   "metadata": {},
   "outputs": [],
   "source": [
    "import math"
   ]
  },
  {
   "cell_type": "markdown",
   "id": "provincial-penny",
   "metadata": {},
   "source": [
    "# Jupyterhub Costs Calculation\n",
    "\n",
    "This notebook can be used to calculate the costs associated with running Jupyterhub in several configurations.\n",
    "\n",
    "You can modify the values below to adjust the end prices.\n",
    "\n"
   ]
  },
  {
   "cell_type": "code",
   "execution_count": 54,
   "id": "impressed-macro",
   "metadata": {},
   "outputs": [
    {
     "name": "stdout",
     "output_type": "stream",
     "text": [
      "Required number of CPUs: 200\n"
     ]
    }
   ],
   "source": [
    "# How many students predicted per class\n",
    "students_per_class = 200\n",
    "\n",
    "# Cost in dollars per student that we'd like to stay below\n",
    "target_cost_per_student = 50\n",
    "\n",
    "# Months in a school term\n",
    "term_months = 3\n",
    "\n",
    "# Resource allocation multiplier per student\n",
    "# 1 being 1cpu/4gb guarantee\n",
    "res_alloc_mult = 1\n",
    "\n",
    "# Azure vm costs per their calculator\n",
    "azure_compute = {\n",
    "    \"vm_b4ms\":   { \"price\": 121.18, \"cpus\": 4 },\n",
    "    \"vm_d4v4\":   { \"price\": 140.16, \"cpus\": 4 },\n",
    "    \"aks_d2sv5\": { \"price\": 70.08,  \"cpus\": 2 },\n",
    "    \"aks_b16ms\": { \"price\": 486.18, \"cpus\": 16 },\n",
    "}\n",
    "\n",
    "# Azure misc components such as public IP, container registry, etc\n",
    "azure_misc_monthly_cost = 100\n",
    "\n",
    "# Calculate the number of cpus needed \n",
    "# to support the requested resource allocation\n",
    "required_cpus = math.ceil(students_per_class * res_alloc_mult)\n",
    "print(f\"Required number of CPUs: {required_cpus}\")"
   ]
  },
  {
   "cell_type": "markdown",
   "id": "separate-junction",
   "metadata": {},
   "source": [
    "## Jupyterhub Cluster - Azure\n",
    "\n",
    "This scenario is similar to how we currently have our jupyterhub cluster set up on-prem.\n",
    "\n",
    "This configuration uses standard Virtual Machines that are always on and is *not scalable*. We can use with B-series systems (cheaper, less performant), or D4-series (enterprise performance). I've chosen the cheaper system, as these machines will not be seeing sustained heavy use.\n",
    "\n",
    "There are also additional costs in azure for things like the public IP, container registry, etc, that are calculated below. "
   ]
  },
  {
   "cell_type": "code",
   "execution_count": 55,
   "id": "consolidated-income",
   "metadata": {},
   "outputs": [
    {
     "name": "stdout",
     "output_type": "stream",
     "text": [
      "Total Monthly Cost: $6,159.00\n",
      "Cost per student per term: $104.39\n"
     ]
    }
   ],
   "source": [
    "# Select the performance size of each node\n",
    "vm_size = \"vm_b4ms\"\n",
    "\n",
    "# Grab the details for that size\n",
    "vm_price = azure_compute[vm_size][\"price\"]\n",
    "vm_cpus = azure_compute[vm_size][\"cpus\"]\n",
    "\n",
    "# Calculate how many nodes we'll need to support the required cpus\n",
    "num_nodes = math.ceil(required_cpus / vm_cpus)\n",
    "\n",
    "# Then we simply calculate the monthly cost of all the nodes\n",
    "azure_vm_cluster_monthly_cost = \\\n",
    "    (num_nodes * vm_price) + azure_misc_monthly_cost\n",
    "print(f\"Total Monthly Cost: ${azure_vm_cluster_monthly_cost:,.2f}\")\n",
    "\n",
    "# And finally the cost per student, including storage (~$4 per student)\n",
    "storage_monthly_cost = 4\n",
    "azure_vm_cost_per_student_per_term = \\\n",
    "    (azure_vm_cluster_monthly_cost / students_per_class + storage_monthly_cost) * term_months\n",
    "print(f\"Cost per student per term: ${azure_vm_cost_per_student_per_term:,.2f}\")"
   ]
  },
  {
   "cell_type": "markdown",
   "id": "responsible-milton",
   "metadata": {},
   "source": [
    "## Jupyterhub Cluster - On-Prem\n",
    "\n",
    "This is our current environment. Exactly the same as above, but our on-prem costs are estimated to be one-third of azure costs, and we don't charge for student storage."
   ]
  },
  {
   "cell_type": "code",
   "execution_count": 56,
   "id": "unexpected-muslim",
   "metadata": {},
   "outputs": [
    {
     "name": "stdout",
     "output_type": "stream",
     "text": [
      "Total Monthly Cost: $1,847.70\n",
      "Cost per student per term: $27.72\n"
     ]
    }
   ],
   "source": [
    "# Simply compute a third of the azure price\n",
    "on_prem_monthly_cost = azure_vm_cluster_monthly_cost * .3\n",
    "print(f\"Total Monthly Cost: ${on_prem_monthly_cost:,.2f}\")\n",
    "\n",
    "on_prem_cost_per_student_per_term = on_prem_monthly_cost / students_per_class * term_months\n",
    "print(f\"Cost per student per term: ${on_prem_cost_per_student_per_term:,.2f}\")"
   ]
  },
  {
   "cell_type": "markdown",
   "id": "numeric-context",
   "metadata": {},
   "source": [
    "## Jupyterhub Kubernetes - Azure AKS\n",
    "\n",
    "This is a much more complicated environment, but may lead to the most cost savings if on-prem is to be avoided.\n",
    "\n",
    "This cluster is configured using the [Zero to Jupyterhub](https://zero-to-jupyterhub.readthedocs.io/en/latest/) guide for hosting Jupyterhub on Kubernetes, specifically Azure Kubernetes Service (AKS).\n",
    "\n",
    "Some benefits include:\n",
    "\n",
    "- Much smaller footprint when not in use\n",
    "- Autoscaling pods to reduce cluster size after class\n",
    "- Creating a new cluster is much faster\n",
    "\n",
    "Possible concerns:\n",
    "\n",
    "- New-ish technology with no official support\n",
    "- Managed very differently from our traditional toolset\n",
    "- Staff proficiency in container management platforms\n",
    "\n",
    "\n",
    "## Configuration\n",
    "\n",
    "The AKS cluster is configured with three static systems that serve as the controller nodes, and a user node pool that scales with demand.\n",
    "\n",
    "### Node sizing\n",
    "\n",
    "- Controller nodes: D2s-v5\n",
    "    - static cost, running 24x7, no scaling\n",
    "\n",
    "- User pool: B16ms\n",
    "    - dynamic cost, calculated below\n",
    "\n",
    "We use huge B16ms systems (16cpu, 64gb) to minimize scale events that would result in wait times of over 10min for multiple events in series."
   ]
  },
  {
   "cell_type": "code",
   "execution_count": 57,
   "id": "incident-turkey",
   "metadata": {},
   "outputs": [],
   "source": [
    "# Controller nodes\n",
    "aks_controller_size = \"aks_d2sv5\"\n",
    "\n",
    "aks_controller_price = azure_compute[aks_controller_size][\"price\"]\n",
    "num_controllers = 3\n",
    "\n",
    "# Monthly cost for the controller nodes\n",
    "aks_controller_monthly_cost = aks_controller_price * num_controllers"
   ]
  },
  {
   "cell_type": "markdown",
   "id": "exceptional-thirty",
   "metadata": {},
   "source": [
    "### Availability\n",
    "\n",
    "Due to using Kubernetes instead of fixed virtual machines, costs are calculated slightly differently, as we will be scaling the user pods up and down as needed. The calculations below will be a best-effort estimate based on the following schedule:\n",
    "\n",
    "Full capacity: \n",
    "\n",
    "- Tue: 1.5hr lecture\n",
    "- Thu: 1.5hr lecture\n",
    "- Fri: 12hr labs\n",
    "\n",
    "Half capacity the rest of the time, with more down-tuning available as we see fit."
   ]
  },
  {
   "cell_type": "code",
   "execution_count": 58,
   "id": "guilty-keyboard",
   "metadata": {},
   "outputs": [],
   "source": [
    "# Details about class hours\n",
    "hours_in_a_week = 168\n",
    "class_sessions_per_week = 3\n",
    "# Tue,Thu,Friday total hours\n",
    "class_hours = 15\n",
    "\n",
    "# For full capacity hours, we need to add an hour and a half\n",
    "# to each day, because we plan to manually scale the cluster \n",
    "# prior to class to facilitate the load without triggering scale events\n",
    "full_capacity_hours_per_week = class_hours + 1.5 * class_sessions_per_week\n",
    "half_capacity_hours_per_week = hours_in_a_week - full_capacity_hours"
   ]
  },
  {
   "cell_type": "markdown",
   "id": "provincial-graphic",
   "metadata": {},
   "source": [
    "### Calculating Costs"
   ]
  },
  {
   "cell_type": "code",
   "execution_count": 60,
   "id": "diagnostic-employee",
   "metadata": {},
   "outputs": [
    {
     "name": "stdout",
     "output_type": "stream",
     "text": [
      "Total monthly cost: $1183.33825\n",
      "Cost per student per term: $17.75\n"
     ]
    }
   ],
   "source": [
    "# First let's establish our base cost\n",
    "# We already calculated the controller cost above, so we\n",
    "# just add the cost for the other azure misc components\n",
    "aks_base_monthly_cost = aks_controller_monthly_cost + azure_misc_monthly_cost\n",
    "\n",
    "# Now let's calculate the hourly cost for the user pod systems\n",
    "aks_userpod_size = \"aks_b16ms\"\n",
    "aks_userpod_hourly_cost = azure_compute[aks_userpod_size][\"price\"] / 30 / 24\n",
    "\n",
    "# Next we determine how many userpods we need at half and full capacity\n",
    "aks_userpod_cpus = azure_compute[aks_userpod_size][\"cpus\"]\n",
    "aks_userpod_fc_count = math.ceil(required_cpus / aks_userpod_cpus)\n",
    "aks_userpod_hc_count = math.ceil(aks_userpod_fc_count / 2)\n",
    "\n",
    "# Then we can estimate the cost for those systems\n",
    "aks_userpod_monthly_cost = \\\n",
    "    full_capacity_hours_per_week * aks_userpod_fc_count * aks_userpod_hourly_cost + \\\n",
    "    half_capacity_hours_per_week * aks_userpod_hc_count * aks_userpod_hourly_cost\n",
    "\n",
    "# Add that to the base price\n",
    "aks_total_monthly_cost = aks_base_monthly_cost + aks_userpod_monthly_cost\n",
    "print(f\"Total monthly cost: ${aks_total_monthly_cost}\")\n",
    "\n",
    "aks_cost_per_student_per_term = \\\n",
    "    aks_total_monthly_cost / students_per_class * term_months\n",
    "print(f\"Cost per student per term: ${aks_cost_per_student_per_term:,.2f}\")"
   ]
  },
  {
   "cell_type": "code",
   "execution_count": null,
   "id": "advanced-persian",
   "metadata": {},
   "outputs": [],
   "source": []
  }
 ],
 "metadata": {
  "kernelspec": {
   "display_name": "Python 3",
   "language": "python",
   "name": "python3"
  },
  "language_info": {
   "codemirror_mode": {
    "name": "ipython",
    "version": 3
   },
   "file_extension": ".py",
   "mimetype": "text/x-python",
   "name": "python",
   "nbconvert_exporter": "python",
   "pygments_lexer": "ipython3",
   "version": "3.9.9"
  }
 },
 "nbformat": 4,
 "nbformat_minor": 5
}
